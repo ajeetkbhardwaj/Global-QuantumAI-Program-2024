{
 "cells": [
  {
   "cell_type": "markdown",
   "metadata": {},
   "source": [
    "What is Cryptography and it's processes ?\n",
    "It is a techniques of secure communication over an unsecure channel between two parties, where an unauthorized user and malicious attackers are also present. The precesses of cryptography involves\n",
    "1. **Encryption** : Input is the essential information(message)$M$ which is known human readable plantext, we try to make it unreadable encrypted form known as ciphertext $C$ using encryption function with input parameters as message and keys.\n",
    "2. **Decryption**"
   ]
  },
  {
   "cell_type": "code",
   "execution_count": null,
   "metadata": {},
   "outputs": [],
   "source": []
  }
 ],
 "metadata": {
  "language_info": {
   "name": "python"
  }
 },
 "nbformat": 4,
 "nbformat_minor": 2
}
